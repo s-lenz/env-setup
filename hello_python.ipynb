{
 "cells": [
  {
   "cell_type": "markdown",
   "id": "c8fdcf4a-96f7-45e7-b598-f3d1cc6b0dad",
   "metadata": {},
   "source": [
    "# Hello World in Python"
   ]
  },
  {
   "cell_type": "code",
   "execution_count": 1,
   "id": "14989b6e-799e-4f4a-83c2-7d38b65477be",
   "metadata": {},
   "outputs": [
    {
     "name": "stdout",
     "output_type": "stream",
     "text": [
      "Hello, world! this is python :-)\n"
     ]
    }
   ],
   "source": [
    "print(\"Hello, world! this is python :-)\")"
   ]
  },
  {
   "cell_type": "code",
   "execution_count": null,
   "id": "a2498dd9-e8e4-463a-bd3d-63968d9f8574",
   "metadata": {},
   "outputs": [],
   "source": []
  }
 ],
 "metadata": {
  "kernelspec": {
   "display_name": "Python 3 (ipykernel)",
   "language": "python",
   "name": "python3"
  },
  "language_info": {
   "codemirror_mode": {
    "name": "ipython",
    "version": 3
   },
   "file_extension": ".py",
   "mimetype": "text/x-python",
   "name": "python",
   "nbconvert_exporter": "python",
   "pygments_lexer": "ipython3",
   "version": "3.10.18"
  }
 },
 "nbformat": 4,
 "nbformat_minor": 5
}
