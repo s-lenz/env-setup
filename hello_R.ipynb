{
 "cells": [
  {
   "cell_type": "markdown",
   "id": "a8c44c0a-2f58-44cc-bf0e-4c1ef6a7eb5e",
   "metadata": {},
   "source": [
    "# Hello World in R\n",
    "This notebook demonstrates a simple \"Hello, World!\" script in R"
   ]
  },
  {
   "cell_type": "code",
   "execution_count": 1,
   "id": "c4e78996-1a6a-4be8-83c5-25d00222c672",
   "metadata": {},
   "outputs": [
    {
     "name": "stdout",
     "output_type": "stream",
     "text": [
      "Hello, World from R!!"
     ]
    }
   ],
   "source": [
    "cat(\"Hello, World from R!!\")"
   ]
  },
  {
   "cell_type": "code",
   "execution_count": null,
   "id": "511110b2-a393-410a-9ad3-5849af807fd7",
   "metadata": {},
   "outputs": [],
   "source": []
  }
 ],
 "metadata": {
  "kernelspec": {
   "display_name": "R",
   "language": "R",
   "name": "ir"
  },
  "language_info": {
   "codemirror_mode": "r",
   "file_extension": ".r",
   "mimetype": "text/x-r-source",
   "name": "R",
   "pygments_lexer": "r",
   "version": "4.4.3"
  }
 },
 "nbformat": 4,
 "nbformat_minor": 5
}
